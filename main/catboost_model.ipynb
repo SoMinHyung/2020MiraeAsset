{
 "cells": [
  {
   "cell_type": "code",
   "execution_count": null,
   "metadata": {},
   "outputs": [],
   "source": [
    "import pandas as pd\n",
    "#1. Read_csv\n",
    "data= pd.read_csv(\"df_temp.csv\")\n",
    "\n",
    "#2. Train, test split\n",
    "train_mask = (data['기준년월'] != 202006)\n",
    "X_train = data.loc[train_mask, :]\n",
    "X_test = data.loc[~train_mask, :]\n",
    "#X_train = X_train.drop('기준년월', axis=1)\n",
    "#X_test = X_test.drop('기준년월', axis=1)\n",
    "\n",
    "print(\"학습사이즈 : \", len(X_train))\n",
    "print(\"테스트사이즈 : \", len(X_test))\n",
    "\n",
    "#3. Y split\n",
    "X_train_x = X_train.drop(['매수고객수', '월'], axis = 1)\n",
    "X_train_y = X_train['매수고객수']\n",
    "X_test_x = X_test.drop(['매수고객수', '월'], axis = 1)\n",
    "X_test_y = X_test['매수고객수']\n",
    "\n",
    "\n",
    "X_train_x"
   ]
  },
  {
   "cell_type": "code",
   "execution_count": null,
   "metadata": {},
   "outputs": [],
   "source": [
    "X_train_x.columns"
   ]
  },
  {
   "cell_type": "code",
   "execution_count": null,
   "metadata": {},
   "outputs": [],
   "source": [
    "categ = [5, 6, 7, 8, 9,10,11]\n",
    "\n",
    "from catboost import CatBoostClassifier, CatBoostRegressor\n",
    "\n",
    "cb_model = CatBoostRegressor(iterations=1300,\n",
    "                             learning_rate=0.02,\n",
    "                             depth=12,\n",
    "                             eval_metric='RMSE',\n",
    "                             random_seed = 23,\n",
    "                             bagging_temperature = 0.2,\n",
    "                             od_type='Iter',\n",
    "                             od_wait=100)\n",
    "\n",
    "cb_model.fit(X_train_x, X_train_y,\n",
    "             eval_set=(X_test_x,X_test_y),\n",
    "             cat_features=categ,\n",
    "             use_best_model=True,\n",
    "             verbose=True)"
   ]
  },
  {
   "cell_type": "code",
   "execution_count": null,
   "metadata": {},
   "outputs": [],
   "source": [
    "temp = pd.read_csv(\"template.csv\")\n",
    "#temp = temp.drop(['그룹내고객수'], axis = 1)\n",
    "\n",
    "y_test = cb_model.predict(temp)\n",
    "a = pd.DataFrame(y_test, columns=['매수고객수'])\n",
    "result = pd.concat([temp, a], axis = 1)\n",
    "\n",
    "ou = result[['그룹번호', '종목번호', '매수고객수']].sort_values(by=['그룹번호','매수고객수'], \n",
    "                                                    ascending = [True, False])\n",
    "\n",
    "result = ou.groupby(['그룹번호']).head(3)\n",
    "# result\n",
    "ou"
   ]
  },
  {
   "cell_type": "code",
   "execution_count": null,
   "metadata": {},
   "outputs": [],
   "source": [
    "result"
   ]
  },
  {
   "cell_type": "code",
   "execution_count": null,
   "metadata": {},
   "outputs": [],
   "source": [
    "stock_name = pd.read_csv(\"종목변환.csv\")\n",
    "group_name = pd.read_csv(\"그룹변환.csv\")\n",
    "\n",
    "#result\n",
    "output = pd.DataFrame(columns=['그룹번호','Top1','Top2','Top3'])\n",
    "\n",
    "top_list = []\n",
    "top = []\n",
    "count = 0\n",
    "for idx, col in result.iterrows():\n",
    "    if count % 3 == 0:\n",
    "        count +=1\n",
    "        top.append(group_name.iloc[col['그룹번호'].astype(int), 1])\n",
    "        top.append(stock_name.iloc[col['종목번호'].astype(int), 1])\n",
    "    elif count % 3 == 1:\n",
    "        count +=1\n",
    "        top.append(stock_name.iloc[col['종목번호'].astype(int), 1])\n",
    "    else:\n",
    "        top.append(stock_name.iloc[col['종목번호'].astype(int), 1])\n",
    "        top_list.append(top)\n",
    "        #clear\n",
    "        top = []\n",
    "        count = 0\n",
    "        \n",
    "for idx, top in enumerate(top_list):\n",
    "    output.loc[idx] = top\n",
    "\n",
    "output.to_csv(\"classif_train_result.csv\", mode='w', header=True, index=False)\n",
    "output"
   ]
  },
  {
   "cell_type": "code",
   "execution_count": null,
   "metadata": {},
   "outputs": [],
   "source": []
  },
  {
   "cell_type": "code",
   "execution_count": null,
   "metadata": {},
   "outputs": [],
   "source": []
  }
 ],
 "metadata": {
  "kernelspec": {
   "display_name": "Python 3",
   "language": "python",
   "name": "python3"
  },
  "language_info": {
   "codemirror_mode": {
    "name": "ipython",
    "version": 3
   },
   "file_extension": ".py",
   "mimetype": "text/x-python",
   "name": "python",
   "nbconvert_exporter": "python",
   "pygments_lexer": "ipython3",
   "version": "3.6.9"
  }
 },
 "nbformat": 4,
 "nbformat_minor": 4
}
